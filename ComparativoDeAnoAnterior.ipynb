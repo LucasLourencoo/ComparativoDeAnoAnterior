{
 "cells": [
  {
   "cell_type": "code",
   "execution_count": 144,
   "metadata": {},
   "outputs": [
    {
     "name": "stdout",
     "output_type": "stream",
     "text": [
      "======================== PRODUTOS QUE VENDERAM MAIS EM 2022 ========================\n",
      "__________________________________________________________________________________________________________________________________\n",
      "Produto: iphone                    \u001b[91mvendas 2021: R$558.147,00     \u001b[0m \u001b[92mvendas 2022: R$951.642,00\u001b[0m \u001b[93m     70.5%\u001b[0m maior do que o ano anterior\n",
      "Produto: tv                        \u001b[91mvendas 2021: R$405.252,00     \u001b[0m \u001b[92mvendas 2022: R$787.604,00\u001b[0m \u001b[93m     94.3%\u001b[0m maior do que o ano anterior\n",
      "Produto: máquina de café           \u001b[91mvendas 2021: R$718.654,00     \u001b[0m \u001b[92mvendas 2022: R$867.660,00\u001b[0m \u001b[93m     20.7%\u001b[0m maior do que o ano anterior\n",
      "Produto: notebook dell             \u001b[91mvendas 2021: R$422.760,00     \u001b[0m \u001b[92mvendas 2022: R$694.913,00\u001b[0m \u001b[93m     64.4%\u001b[0m maior do que o ano anterior\n",
      "Produto: notebook hp               \u001b[91mvendas 2021: R$154.753,00     \u001b[0m \u001b[92mvendas 2022: R$539.704,00\u001b[0m \u001b[93m    248.8%\u001b[0m maior do que o ano anterior\n",
      "Produto: microsoft surface         \u001b[91mvendas 2021: R$438.508,00     \u001b[0m \u001b[92mvendas 2022: R$667.179,00\u001b[0m \u001b[93m     52.1%\u001b[0m maior do que o ano anterior\n",
      "Produto: webcam                    \u001b[91mvendas 2021: R$237.467,00     \u001b[0m \u001b[92mvendas 2022: R$295.633,00\u001b[0m \u001b[93m     24.5%\u001b[0m maior do que o ano anterior\n",
      "Produto: caixa de som              \u001b[91mvendas 2021: R$489.705,00     \u001b[0m \u001b[92mvendas 2022: R$725.316,00\u001b[0m \u001b[93m     48.1%\u001b[0m maior do que o ano anterior\n",
      "Produto: microfone                 \u001b[91mvendas 2021: R$328.311,00     \u001b[0m \u001b[92mvendas 2022: R$644.622,00\u001b[0m \u001b[93m     96.3%\u001b[0m maior do que o ano anterior\n",
      "Produto: câmera canon              \u001b[91mvendas 2021: R$591.120,00     \u001b[0m \u001b[92mvendas 2022: R$994.303,00\u001b[0m \u001b[93m     68.2%\u001b[0m maior do que o ano anterior\n"
     ]
    }
   ],
   "source": [
    "produtos = ['iphone', 'galaxy', 'ipad', 'tv', 'máquina de café', 'kindle', 'geladeira', 'adega', 'notebook dell', 'notebook hp', 'notebook asus', 'microsoft surface', 'webcam', 'caixa de som', 'microfone', 'câmera canon']\n",
    "vendas2021 = [558147,712350,573823,405252,718654,531580,973139,892292,422760,154753,887061,438508,237467,489705,328311,591120]\n",
    "vendas2022 = [951642,244295,26964,787604,867660,78830,710331,646016,694913,539704,324831,667179,295633,725316,644622,994303]\n",
    "\n",
    "searchlist = [['s', 'sim', 'desejo', 'quero', 'si', 'sí' ],\n",
    "    ['n', 'não', 'não quero', 'não desejo', 'nao', 'na', 'no'],\n",
    "    ]\n",
    "search = input('Deseja saber os produtos que venderam mais em 2022?')\n",
    "#2022\n",
    "if search in searchlist[0]:\n",
    "    print( '=' * 24, 'PRODUTOS QUE VENDERAM MAIS EM 2022', '=' * 24)\n",
    "    print('_' * 130)\n",
    "    for i, produto in enumerate(produtos):\n",
    "        if vendas2022[i] > vendas2021[i]:\n",
    "            \n",
    "            print('Produto: {:25}'.format(produtos[i]), '\\033[91mvendas 2021: R${:<15_.2f}\\033[0m'.format(vendas2021[i]).replace('.',',').replace('_','.') ,'\\033[92mvendas 2022: R${:<10_.2f}\\033[0m'.format(vendas2022[i]).replace('.',',').replace('_','.'), '\\033[93m{:>10.1%}\\033[0m maior do que o ano anterior'.format(vendas2022[i] / vendas2021[i] - 1))\n",
    "#2021\n",
    "elif search in searchlist[1]:\n",
    "    search2 = input('Deseja saber os produtos que venderam mais em 2021?')\n",
    "    if search2 in searchlist[0]:\n",
    "        print( '=' * 24, 'PRODUTOS QUE VENDERAM MAIS EM 2021', '=' * 24)\n",
    "        print('_' * 130)\n",
    "        for i, produto in enumerate(produtos):\n",
    "            if vendas2022[i] < vendas2021[i]:\n",
    "                \n",
    "                print('Produto: {:25}'.format(produtos[i]), '\\033[91mvendas 2022: R${:<15_.2f}\\033[0m'.format(vendas2022[i]).replace('.',',').replace('_','.') ,'\\033[92mvendas 2021: R${:<10_.2f}\\033[0m'.format(vendas2021[i]).replace('.',',').replace('_','.'), '\\033[93m{:>10.1%}\\033[0m maior do que o ano de 2022'.format(vendas2021[i] / vendas2022[i] - 1))\n"
   ]
  }
 ],
 "metadata": {
  "interpreter": {
   "hash": "8003219c8c57211ee3be347d121ba14ebad7276cdae3d94be72d9e4e17f9edd5"
  },
  "kernelspec": {
   "display_name": "Python 3.9.7 ('base')",
   "language": "python",
   "name": "python3"
  },
  "language_info": {
   "codemirror_mode": {
    "name": "ipython",
    "version": 3
   },
   "file_extension": ".py",
   "mimetype": "text/x-python",
   "name": "python",
   "nbconvert_exporter": "python",
   "pygments_lexer": "ipython3",
   "version": "3.9.7"
  },
  "orig_nbformat": 4
 },
 "nbformat": 4,
 "nbformat_minor": 2
}
